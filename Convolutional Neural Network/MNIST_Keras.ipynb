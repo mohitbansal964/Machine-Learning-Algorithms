{
 "cells": [
  {
   "cell_type": "code",
   "execution_count": 1,
   "metadata": {
    "colab": {},
    "colab_type": "code",
    "id": "ajzZkS1SsIU9"
   },
   "outputs": [],
   "source": [
    "import numpy as np"
   ]
  },
  {
   "cell_type": "code",
   "execution_count": 2,
   "metadata": {
    "colab": {},
    "colab_type": "code",
    "id": "FNBpdxU7sIVI"
   },
   "outputs": [
    {
     "name": "stderr",
     "output_type": "stream",
     "text": [
      "C:\\Users\\MOHIT\\Anaconda3\\lib\\site-packages\\h5py\\__init__.py:36: FutureWarning: Conversion of the second argument of issubdtype from `float` to `np.floating` is deprecated. In future, it will be treated as `np.float64 == np.dtype(float).type`.\n",
      "  from ._conv import register_converters as _register_converters\n",
      "Using TensorFlow backend.\n"
     ]
    }
   ],
   "source": [
    "from keras.datasets import mnist\n",
    "from keras.models import Sequential\n",
    "from keras.layers import Dense, Conv2D, MaxPooling2D, Dropout, Flatten"
   ]
  },
  {
   "cell_type": "code",
   "execution_count": 3,
   "metadata": {
    "colab": {},
    "colab_type": "code",
    "id": "AFrIdBIhsIVR",
    "scrolled": true
   },
   "outputs": [],
   "source": [
    "(x_train, y_train), (x_test, y_test) = mnist.load_data()"
   ]
  },
  {
   "cell_type": "code",
   "execution_count": 4,
   "metadata": {
    "colab": {
     "base_uri": "https://localhost:8080/",
     "height": 34
    },
    "colab_type": "code",
    "id": "lmrAlGoEsIVh",
    "outputId": "87ed75b1-b7dd-4c66-ca2e-5e1bbb3cb362",
    "scrolled": true
   },
   "outputs": [
    {
     "data": {
      "text/plain": [
       "((60000, 28, 28), (10000, 28, 28), (60000,), (10000,))"
      ]
     },
     "execution_count": 4,
     "metadata": {},
     "output_type": "execute_result"
    }
   ],
   "source": [
    "x_train.shape, x_test.shape, y_train.shape, y_test.shape"
   ]
  },
  {
   "cell_type": "code",
   "execution_count": 5,
   "metadata": {
    "colab": {
     "base_uri": "https://localhost:8080/",
     "height": 34
    },
    "colab_type": "code",
    "id": "5IOB5bLMsIVu",
    "outputId": "b6d7024c-907e-48ad-abea-524fae8b3387"
   },
   "outputs": [
    {
     "data": {
      "text/plain": [
       "array([7, 2, 1, ..., 4, 5, 6], dtype=uint8)"
      ]
     },
     "execution_count": 5,
     "metadata": {},
     "output_type": "execute_result"
    }
   ],
   "source": [
    "y_test"
   ]
  },
  {
   "cell_type": "code",
   "execution_count": 6,
   "metadata": {
    "colab": {},
    "colab_type": "code",
    "id": "3xFQTgOTsIV7"
   },
   "outputs": [],
   "source": [
    "x_train= x_train.reshape(60000, 28, 28, 1)\n",
    "x_test= x_test.reshape(10000, 28, 28, 1)"
   ]
  },
  {
   "cell_type": "code",
   "execution_count": 7,
   "metadata": {
    "colab": {},
    "colab_type": "code",
    "id": "9O4za_y9sIWE"
   },
   "outputs": [],
   "source": [
    "from keras.utils import to_categorical\n",
    "\n",
    "y_train = to_categorical(y_train)\n",
    "y_test = to_categorical(y_test)"
   ]
  },
  {
   "cell_type": "code",
   "execution_count": 8,
   "metadata": {
    "colab": {
     "base_uri": "https://localhost:8080/",
     "height": 34
    },
    "colab_type": "code",
    "id": "J_lhXDEysIWO",
    "outputId": "8743ddd5-2707-4f7f-87d6-8a5036881b48"
   },
   "outputs": [
    {
     "data": {
      "text/plain": [
       "((60000, 28, 28, 1), (10000, 28, 28, 1), (60000, 10), (10000, 10))"
      ]
     },
     "execution_count": 8,
     "metadata": {},
     "output_type": "execute_result"
    }
   ],
   "source": [
    "x_train.shape, x_test.shape, y_train.shape, y_test.shape"
   ]
  },
  {
   "cell_type": "code",
   "execution_count": 9,
   "metadata": {
    "colab": {
     "base_uri": "https://localhost:8080/",
     "height": 136
    },
    "colab_type": "code",
    "id": "TX6mGf0OsIWa",
    "outputId": "8df20383-8459-4f09-a4a6-b0e7ebe5bc3b"
   },
   "outputs": [
    {
     "data": {
      "text/plain": [
       "array([[0., 0., 0., ..., 1., 0., 0.],\n",
       "       [0., 0., 1., ..., 0., 0., 0.],\n",
       "       [0., 1., 0., ..., 0., 0., 0.],\n",
       "       ...,\n",
       "       [0., 0., 0., ..., 0., 0., 0.],\n",
       "       [0., 0., 0., ..., 0., 0., 0.],\n",
       "       [0., 0., 0., ..., 0., 0., 0.]], dtype=float32)"
      ]
     },
     "execution_count": 9,
     "metadata": {},
     "output_type": "execute_result"
    }
   ],
   "source": [
    "y_test"
   ]
  },
  {
   "cell_type": "code",
   "execution_count": 10,
   "metadata": {
    "colab": {},
    "colab_type": "code",
    "id": "hQb0nRE7sIWm"
   },
   "outputs": [],
   "source": [
    "batch_size= 100\n",
    "input_width = 28\n",
    "input_height = 28\n",
    "input_channels = 1\n",
    "\n",
    "n_conv1 = 64\n",
    "n_conv2 = 32\n",
    "stride_conv1 = 1\n",
    "stride_conv2 = 1\n",
    "conv1_k = 5\n",
    "conv2_k = 5\n",
    "max_pool1_k = 2\n",
    "max_pool2_k = 2\n",
    "\n",
    "n_hidden = 1024\n",
    "n_out = 10\n"
   ]
  },
  {
   "cell_type": "code",
   "execution_count": 11,
   "metadata": {},
   "outputs": [],
   "source": [
    "model= Sequential()"
   ]
  },
  {
   "cell_type": "code",
   "execution_count": 12,
   "metadata": {},
   "outputs": [],
   "source": [
    "layer1= Conv2D(filters= n_conv1, kernel_size= conv1_k, padding='SAME',\n",
    "               activation= 'relu', input_shape= (input_height, input_width, input_channels))\n",
    "#layer2= MaxPooling2D(padding= 'SAME')\n",
    "layer3= Conv2D(filters= n_conv2, kernel_size= conv2_k, padding= 'SAME', activation= 'relu')\n",
    "#layer4= MaxPooling2D(padding= 'SAME')\n",
    "#layer5= Dense(units= 1024, activation= 'softmax')\n",
    "layer6= Dense(units= 10, activation='softmax')\n",
    "\n",
    "model.add(layer1)\n",
    "#model.add(layer2)\n",
    "model.add(layer3)\n",
    "#model.add(layer4)\n",
    "model.add(Flatten())\n",
    "#model.add(layer5)\n",
    "model.add(Dropout(rate= 0.2))\n",
    "model.add(layer6)"
   ]
  },
  {
   "cell_type": "code",
   "execution_count": 13,
   "metadata": {},
   "outputs": [],
   "source": [
    "model.compile(optimizer='adam', loss='categorical_crossentropy', metrics=['accuracy'])"
   ]
  },
  {
   "cell_type": "code",
   "execution_count": 45,
   "metadata": {
    "colab": {
     "base_uri": "https://localhost:8080/",
     "height": 221
    },
    "colab_type": "code",
    "id": "14z01RZjsIWw",
    "outputId": "6e7438a3-8281-4cc2-c6fb-7ad49c1b43f5"
   },
   "outputs": [
    {
     "name": "stdout",
     "output_type": "stream",
     "text": [
      "Train on 60000 samples, validate on 10000 samples\n",
      "Epoch 1/5\n",
      "60000/60000 [==============================] - 11s 179us/step - loss: 0.7960 - acc: 0.9114 - val_loss: 0.0669 - val_acc: 0.9794\n",
      "Epoch 2/5\n",
      "60000/60000 [==============================] - 10s 163us/step - loss: 0.0658 - acc: 0.9805 - val_loss: 0.0612 - val_acc: 0.9818\n",
      "Epoch 3/5\n",
      "60000/60000 [==============================] - 10s 163us/step - loss: 0.0531 - acc: 0.9837 - val_loss: 0.0659 - val_acc: 0.9819\n",
      "Epoch 4/5\n",
      "60000/60000 [==============================] - 10s 164us/step - loss: 0.0420 - acc: 0.9865 - val_loss: 0.0693 - val_acc: 0.9815\n",
      "Epoch 5/5\n",
      "60000/60000 [==============================] - 10s 163us/step - loss: 0.0357 - acc: 0.9891 - val_loss: 0.0864 - val_acc: 0.9805\n"
     ]
    },
    {
     "data": {
      "text/plain": [
       "<keras.callbacks.History at 0x7fa231b6e9e8>"
      ]
     },
     "execution_count": 45,
     "metadata": {
      "tags": []
     },
     "output_type": "execute_result"
    }
   ],
   "source": [
    "model.fit(x_train, y_train, epochs=5, batch_size = 100, validation_data=(x_test, y_test))"
   ]
  },
  {
   "cell_type": "code",
   "execution_count": 46,
   "metadata": {
    "colab": {
     "base_uri": "https://localhost:8080/",
     "height": 238
    },
    "colab_type": "code",
    "id": "yRxlKzinsIXi",
    "outputId": "650dc5bc-b316-407b-e499-0eab8e53c784"
   },
   "outputs": [
    {
     "data": {
      "text/plain": [
       "array([[2.2316075e-07, 6.2122447e-14, 1.2378038e-06, ..., 9.9998760e-01,\n",
       "        1.2766610e-08, 4.0952699e-08],\n",
       "       [1.4904518e-13, 4.4929941e-08, 1.0000000e+00, ..., 1.0041404e-14,\n",
       "        3.8739710e-12, 5.3715470e-19],\n",
       "       [1.4711311e-10, 9.9691182e-01, 4.5546798e-07, ..., 1.5758025e-10,\n",
       "        3.0753713e-03, 9.5948416e-11],\n",
       "       ...,\n",
       "       [7.7049759e-15, 2.1492167e-13, 2.1455525e-15, ..., 4.3998288e-11,\n",
       "        8.6103769e-10, 8.0626064e-14],\n",
       "       [9.9041847e-13, 2.7725269e-15, 8.9241131e-13, ..., 4.3237796e-14,\n",
       "        9.2519891e-05, 7.7993097e-13],\n",
       "       [1.4053786e-04, 1.2147413e-09, 3.0839917e-06, ..., 3.0029587e-10,\n",
       "        5.0624948e-07, 5.6039720e-08]], dtype=float32)"
      ]
     },
     "execution_count": 46,
     "metadata": {
      "tags": []
     },
     "output_type": "execute_result"
    }
   ],
   "source": [
    "predictions = model.predict(x_test)\n",
    "predictions"
   ]
  },
  {
   "cell_type": "code",
   "execution_count": 47,
   "metadata": {
    "colab": {
     "base_uri": "https://localhost:8080/",
     "height": 51
    },
    "colab_type": "code",
    "id": "QpnwIBhfsIXs",
    "outputId": "ae601e1c-2ce6-4c33-f329-42f8527a54ec"
   },
   "outputs": [
    {
     "name": "stdout",
     "output_type": "stream",
     "text": [
      "10000/10000 [==============================] - 1s 116us/step\n"
     ]
    },
    {
     "data": {
      "text/plain": [
       "[0.08644150696715878, 0.9805]"
      ]
     },
     "execution_count": 47,
     "metadata": {
      "tags": []
     },
     "output_type": "execute_result"
    }
   ],
   "source": [
    "score = model.evaluate(x_test, y_test)\n",
    "score"
   ]
  },
  {
   "cell_type": "code",
   "execution_count": 0,
   "metadata": {
    "colab": {},
    "colab_type": "code",
    "id": "iWGQc3pAsIX4"
   },
   "outputs": [],
   "source": []
  }
 ],
 "metadata": {
  "accelerator": "GPU",
  "colab": {
   "name": "MNIST- Keras.ipynb",
   "provenance": [],
   "version": "0.3.2"
  },
  "kernelspec": {
   "display_name": "Python 3",
   "language": "python",
   "name": "python3"
  },
  "language_info": {
   "codemirror_mode": {
    "name": "ipython",
    "version": 3
   },
   "file_extension": ".py",
   "mimetype": "text/x-python",
   "name": "python",
   "nbconvert_exporter": "python",
   "pygments_lexer": "ipython3",
   "version": "3.6.6"
  }
 },
 "nbformat": 4,
 "nbformat_minor": 1
}
