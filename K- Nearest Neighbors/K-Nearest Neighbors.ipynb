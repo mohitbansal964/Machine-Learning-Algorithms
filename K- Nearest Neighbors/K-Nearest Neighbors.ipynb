{
 "cells": [
  {
   "cell_type": "code",
   "execution_count": null,
   "metadata": {},
   "outputs": [],
   "source": [
    "from sklearn import datasets\n",
    "from sklearn.neighbors import KNeighborsClassifier\n",
    "from sklearn.model_selection import train_test_split\n",
    "from sklearn.metrics import accuracy_score\n",
    "import numpy as np\n",
    "from collections import Counter"
   ]
  },
  {
   "cell_type": "code",
   "execution_count": null,
   "metadata": {},
   "outputs": [],
   "source": [
    "class KNN:\n",
    "    def __init__(self, K=5, p=2):\n",
    "        self.K= K\n",
    "        self.p= p\n",
    "        self.X= []\n",
    "        self.Y= []\n",
    "        \n",
    "    def fit(self, X_train, Y_train):\n",
    "        self.X= X_train\n",
    "        self.Y= Y_train\n",
    "    \n",
    "    def __predict_one(self, x):\n",
    "        distances= []\n",
    "        for i in range(len(self.X)):\n",
    "            cur_dist= (abs(self.X[i,:]-x)**self.p).sum()\n",
    "            #cur_dist= cur_dist**(1/self.p)\n",
    "            distances.append((cur_dist, i))\n",
    "        distances.sort()\n",
    "        \n",
    "        targets=[]\n",
    "        for i in range(self.K):\n",
    "            targets.append(self.Y[distances[i][1]])\n",
    "        return Counter(targets).most_common(1)[0][0]\n",
    "        \n",
    "    def predict(self, X_test):\n",
    "        y_pred= []\n",
    "        for x in X_test:\n",
    "            y= self.__predict_one(x)\n",
    "            y_pred.append(y)\n",
    "        return np.array(y_pred)\n",
    "    \n",
    "    def score(self, Y_truth, Y_pred):\n",
    "        #Calculating precentage accuracy\n",
    "        accurate=0\n",
    "        for i in range(len(Y_truth)):\n",
    "            if(Y_truth[i]== Y_pred[i] ):\n",
    "                accurate+=1\n",
    "        return accurate/len(Y_truth)\n",
    "        "
   ]
  },
  {
   "cell_type": "code",
   "execution_count": null,
   "metadata": {},
   "outputs": [],
   "source": [
    "dataset = datasets.load_breast_cancer()\n",
    "X_train, X_test, Y_train, Y_test = train_test_split(dataset.data, dataset.target, test_size = 0.2, random_state = 0)"
   ]
  },
  {
   "cell_type": "code",
   "execution_count": null,
   "metadata": {},
   "outputs": [],
   "source": [
    "clf1= KNN(K=7)\n",
    "clf1.fit(X_train, Y_train)"
   ]
  },
  {
   "cell_type": "code",
   "execution_count": null,
   "metadata": {},
   "outputs": [],
   "source": [
    "Y_test_pred= clf1.predict(X_test)\n",
    "print(\"Test Score: \", clf1.score(Y_test, Y_test_pred))\n",
    "\n",
    "Y_train_pred= clf1.predict(X_train)\n",
    "print(\"Train Score: \", clf1.score(Y_train, Y_train_pred))"
   ]
  },
  {
   "cell_type": "code",
   "execution_count": null,
   "metadata": {},
   "outputs": [],
   "source": [
    "from sklearn.metrics import classification_report, confusion_matrix\n",
    "print(classification_report(Y_test,Y_test_pred))\n",
    "print(confusion_matrix(Y_test,Y_test_pred))"
   ]
  },
  {
   "cell_type": "markdown",
   "metadata": {},
   "source": [
    "# Sklearn KNN"
   ]
  },
  {
   "cell_type": "code",
   "execution_count": null,
   "metadata": {},
   "outputs": [],
   "source": [
    "clf2 = KNeighborsClassifier(n_neighbors=7)\n",
    "clf2.fit(X_train, Y_train)"
   ]
  },
  {
   "cell_type": "code",
   "execution_count": null,
   "metadata": {},
   "outputs": [],
   "source": [
    "Y_test_pred_skl= clf2.predict(X_test)\n",
    "print(\"Test Score: \", clf2.score(X_test, Y_test))\n",
    "\n",
    "Y_train_pred_skl= clf2.predict(X_train)\n",
    "print(\"Train Score: \", clf2.score(X_train, Y_train))"
   ]
  },
  {
   "cell_type": "code",
   "execution_count": null,
   "metadata": {},
   "outputs": [],
   "source": [
    "print(classification_report(Y_test,Y_test_pred_skl))\n",
    "print(confusion_matrix(Y_test,Y_test_pred_skl))"
   ]
  }
 ],
 "metadata": {
  "kernelspec": {
   "display_name": "Python 3",
   "language": "python",
   "name": "python3"
  },
  "language_info": {
   "codemirror_mode": {
    "name": "ipython",
    "version": 3
   },
   "file_extension": ".py",
   "mimetype": "text/x-python",
   "name": "python",
   "nbconvert_exporter": "python",
   "pygments_lexer": "ipython3",
   "version": "3.6.3"
  }
 },
 "nbformat": 4,
 "nbformat_minor": 2
}
