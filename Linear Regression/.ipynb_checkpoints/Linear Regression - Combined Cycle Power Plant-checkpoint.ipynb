{
 "cells": [
  {
   "cell_type": "code",
   "execution_count": 4,
   "metadata": {},
   "outputs": [],
   "source": [
    "import numpy as np\n",
    "import pandas as pd\n",
    "from sklearn import model_selection, preprocessing\n",
    "from sklearn.linear_model import LinearRegression"
   ]
  },
  {
   "cell_type": "code",
   "execution_count": 15,
   "metadata": {},
   "outputs": [],
   "source": [
    "class MyLinearRegression:\n",
    "    def __init__(self, learning_rate=0, num_of_iterations=0):\n",
    "        self.learning_rate = learning_rate\n",
    "        self.num_of_iterations = num_of_iterations\n",
    "        self.min_cost=0\n",
    "        self.M=0\n",
    "        self.n=0\n",
    "        self.coef_= np.zeros(self.n)\n",
    "        self.intercept_= 0\n",
    "\n",
    "    def __cost(self, X, Y, m):\n",
    "        total_cost=0  #Total cost\n",
    "        for i in range(self.M):\n",
    "            x=X[i,:]\n",
    "            y=Y[i]\n",
    "            total_cost+=(1/self.M)*((y-(m*x).sum())**2)   #Total Cost\n",
    "        return total_cost\n",
    "    \n",
    "    def __sto_step_gradient(self, X, Y, m):\n",
    "        slope=np.zeros(X.shape[1])   #slope of tangent  \n",
    "        for i in range(self.M):\n",
    "            x= X[i,:]\n",
    "            y= Y[i]\n",
    "            slope+= (-2/self.M)*(y-(m*x).sum())*x   #slope of tangent\n",
    "            m= m-self.learning_rate*slope\n",
    "        return m\n",
    "    \n",
    "    def __sto_gradient_descent(self, points):\n",
    "        try:\n",
    "            X=points[0]            #Input vector\n",
    "            self.M=X.shape[0]      #Total number of datapoints in X\n",
    "            self.n=X.shape[1]      #Total number of features in X\n",
    "            Y=points[1]       #Output\n",
    "            X_n=np.append(X,np.ones(self.M).reshape(-1,1),axis=1)     #n+1 column is 1\n",
    "            m=np.zeros(self.n+1)   #here m is slope of best fit line\n",
    "            for i in range(self.num_of_iterations):\n",
    "                m = self.__sto_step_gradient(X_n, Y, m)\n",
    "                print(f\"Cost after {i}th iterations is: {self.__cost(X_n, Y, m)}.\")\n",
    "            self.min_cost=self.__cost(X_n, Y, m)\n",
    "            return m[:-1], m[-1]\n",
    "        except Exception as e:\n",
    "            print(e)\n",
    "            return np.zeros(self.n),0\n",
    "    \n",
    "    def fit(self, X, Y):\n",
    "        self.coef_, self.intercept_ = self.__sto_gradient_descent((X,Y))\n",
    "        \n",
    "    def predict(self, X_test):\n",
    "        val= np.zeros(X_test.shape[0])\n",
    "        add= X_test*self.coef_\n",
    "        for j in range(X_test.shape[0]):\n",
    "            for i in range(X_test.shape[1]):\n",
    "                val[j]+=add[j][i]\n",
    "        return val + self.intercept_\n",
    "    \n",
    "    def score(self, Y_truth, Y_pred):\n",
    "        u=np.sum((Y_truth-Y_pred)**2)\n",
    "        v=np.sum((Y_truth-Y_truth.mean())**2)\n",
    "        coeff=1-(u/v)\n",
    "        return coeff"
   ]
  },
  {
   "cell_type": "code",
   "execution_count": 6,
   "metadata": {},
   "outputs": [],
   "source": [
    "df= pd.read_csv(\"training_ccpp_x_y_train.csv\")"
   ]
  },
  {
   "cell_type": "code",
   "execution_count": 7,
   "metadata": {},
   "outputs": [
    {
     "data": {
      "text/html": [
       "<div>\n",
       "<style scoped>\n",
       "    .dataframe tbody tr th:only-of-type {\n",
       "        vertical-align: middle;\n",
       "    }\n",
       "\n",
       "    .dataframe tbody tr th {\n",
       "        vertical-align: top;\n",
       "    }\n",
       "\n",
       "    .dataframe thead th {\n",
       "        text-align: right;\n",
       "    }\n",
       "</style>\n",
       "<table border=\"1\" class=\"dataframe\">\n",
       "  <thead>\n",
       "    <tr style=\"text-align: right;\">\n",
       "      <th></th>\n",
       "      <th>T</th>\n",
       "      <th>V</th>\n",
       "      <th>AP</th>\n",
       "      <th>RH</th>\n",
       "      <th>EP</th>\n",
       "    </tr>\n",
       "  </thead>\n",
       "  <tbody>\n",
       "    <tr>\n",
       "      <th>0</th>\n",
       "      <td>8.58</td>\n",
       "      <td>38.38</td>\n",
       "      <td>1021.03</td>\n",
       "      <td>84.37</td>\n",
       "      <td>482.26</td>\n",
       "    </tr>\n",
       "    <tr>\n",
       "      <th>1</th>\n",
       "      <td>21.79</td>\n",
       "      <td>58.20</td>\n",
       "      <td>1017.21</td>\n",
       "      <td>66.74</td>\n",
       "      <td>446.94</td>\n",
       "    </tr>\n",
       "    <tr>\n",
       "      <th>2</th>\n",
       "      <td>16.64</td>\n",
       "      <td>48.92</td>\n",
       "      <td>1011.55</td>\n",
       "      <td>78.76</td>\n",
       "      <td>452.56</td>\n",
       "    </tr>\n",
       "    <tr>\n",
       "      <th>3</th>\n",
       "      <td>31.38</td>\n",
       "      <td>71.32</td>\n",
       "      <td>1009.17</td>\n",
       "      <td>60.42</td>\n",
       "      <td>433.44</td>\n",
       "    </tr>\n",
       "    <tr>\n",
       "      <th>4</th>\n",
       "      <td>9.20</td>\n",
       "      <td>40.03</td>\n",
       "      <td>1017.05</td>\n",
       "      <td>92.46</td>\n",
       "      <td>480.38</td>\n",
       "    </tr>\n",
       "  </tbody>\n",
       "</table>\n",
       "</div>"
      ],
      "text/plain": [
       "       T      V       AP     RH      EP\n",
       "0   8.58  38.38  1021.03  84.37  482.26\n",
       "1  21.79  58.20  1017.21  66.74  446.94\n",
       "2  16.64  48.92  1011.55  78.76  452.56\n",
       "3  31.38  71.32  1009.17  60.42  433.44\n",
       "4   9.20  40.03  1017.05  92.46  480.38"
      ]
     },
     "execution_count": 7,
     "metadata": {},
     "output_type": "execute_result"
    }
   ],
   "source": [
    "df.head()"
   ]
  },
  {
   "cell_type": "code",
   "execution_count": 8,
   "metadata": {},
   "outputs": [],
   "source": [
    "X_train= df.values[:,:-1]\n",
    "Y_train= df.values[:,-1]"
   ]
  },
  {
   "cell_type": "code",
   "execution_count": 9,
   "metadata": {},
   "outputs": [
    {
     "data": {
      "text/plain": [
       "StandardScaler(copy=True, with_mean=True, with_std=True)"
      ]
     },
     "execution_count": 9,
     "metadata": {},
     "output_type": "execute_result"
    }
   ],
   "source": [
    "scaler=preprocessing.StandardScaler()\n",
    "scaler.fit(X_train)"
   ]
  },
  {
   "cell_type": "code",
   "execution_count": 10,
   "metadata": {},
   "outputs": [],
   "source": [
    "X_train= scaler.transform(X_train)"
   ]
  },
  {
   "cell_type": "code",
   "execution_count": 11,
   "metadata": {},
   "outputs": [],
   "source": [
    "learning_rate = 0.0001\n",
    "num_iterations = 76"
   ]
  },
  {
   "cell_type": "code",
   "execution_count": 16,
   "metadata": {
    "scrolled": true
   },
   "outputs": [
    {
     "name": "stdout",
     "output_type": "stream",
     "text": [
      "Cost after 0th iterations is: 27422.391537750118.\n",
      "Cost after 1th iterations is: 3661.74118422972.\n",
      "Cost after 2th iterations is: 509.41624393986353.\n",
      "Cost after 3th iterations is: 90.67986557677591.\n",
      "Cost after 4th iterations is: 34.36609667266653.\n",
      "Cost after 5th iterations is: 26.298115850695858.\n",
      "Cost after 6th iterations is: 24.711342779573553.\n",
      "Cost after 7th iterations is: 24.063822257310967.\n",
      "Cost after 8th iterations is: 23.603198832494567.\n",
      "Cost after 9th iterations is: 23.221271023040718.\n",
      "Cost after 10th iterations is: 22.895273615425758.\n",
      "Cost after 11th iterations is: 22.615669698410628.\n",
      "Cost after 12th iterations is: 22.37556106289935.\n",
      "Cost after 13th iterations is: 22.169300129563105.\n",
      "Cost after 14th iterations is: 21.992087843227473.\n",
      "Cost after 15th iterations is: 21.839826744031296.\n",
      "Cost after 16th iterations is: 21.709004737632085.\n",
      "Cost after 17th iterations is: 21.596608146981062.\n",
      "Cost after 18th iterations is: 21.500048515549437.\n",
      "Cost after 19th iterations is: 21.41710165190188.\n",
      "Cost after 20th iterations is: 21.34585580381117.\n",
      "Cost after 21th iterations is: 21.284667512958002.\n",
      "Cost after 22th iterations is: 21.232123831264907.\n",
      "Cost after 23th iterations is: 21.187009933797174.\n",
      "Cost after 24th iterations is: 21.148281318950232.\n",
      "Cost after 25th iterations is: 21.11503993008024.\n",
      "Cost after 26th iterations is: 21.086513635387128.\n",
      "Cost after 27th iterations is: 21.062038588616296.\n",
      "Cost after 28th iterations is: 21.04104406313095.\n",
      "Cost after 29th iterations is: 21.023039410871775.\n",
      "Cost after 30th iterations is: 21.00760284752992.\n",
      "Cost after 31th iterations is: 20.99437180767725.\n",
      "Cost after 32th iterations is: 20.983034649788717.\n",
      "Cost after 33th iterations is: 20.973323522101655.\n",
      "Cost after 34th iterations is: 20.965008226804915.\n",
      "Cost after 35th iterations is: 20.957890942866012.\n",
      "Cost after 36th iterations is: 20.951801687365798.\n",
      "Cost after 37th iterations is: 20.946594412043805.\n",
      "Cost after 38th iterations is: 20.942143646206247.\n",
      "Cost after 39th iterations is: 20.938341609585372.\n",
      "Cost after 40th iterations is: 20.935095729416677.\n",
      "Cost after 41th iterations is: 20.93232650520307.\n",
      "Cost after 42th iterations is: 20.92996567253155.\n",
      "Cost after 43th iterations is: 20.927954624110775.\n",
      "Cost after 44th iterations is: 20.926243052047102.\n",
      "Cost after 45th iterations is: 20.924787780403946.\n",
      "Cost after 46th iterations is: 20.923551761421038.\n",
      "Cost after 47th iterations is: 20.922503212489143.\n",
      "Cost after 48th iterations is: 20.921614874182517.\n",
      "Cost after 49th iterations is: 20.920863372398774.\n",
      "Cost after 50th iterations is: 20.92022867003447.\n",
      "Cost after 51th iterations is: 20.91969359565737.\n",
      "Cost after 52th iterations is: 20.919243438388193.\n",
      "Cost after 53th iterations is: 20.91886559972174.\n",
      "Cost after 54th iterations is: 20.918549294304576.\n",
      "Cost after 55th iterations is: 20.918285292809443.\n",
      "Cost after 56th iterations is: 20.918065701004494.\n",
      "Cost after 57th iterations is: 20.917883769942716.\n",
      "Cost after 58th iterations is: 20.91773373290104.\n",
      "Cost after 59th iterations is: 20.91761066532296.\n",
      "Cost after 60th iterations is: 20.91751036452893.\n",
      "Cost after 61th iterations is: 20.917429246422177.\n",
      "Cost after 62th iterations is: 20.917364256799306.\n",
      "Cost after 63th iterations is: 20.917312795216773.\n",
      "Cost after 64th iterations is: 20.91727264964249.\n",
      "Cost after 65th iterations is: 20.917241940379274.\n",
      "Cost after 66th iterations is: 20.917219071952847.\n",
      "Cost after 67th iterations is: 20.917202691841965.\n",
      "Cost after 68th iterations is: 20.917191655086697.\n",
      "Cost after 69th iterations is: 20.917184993947256.\n",
      "Cost after 70th iterations is: 20.917181891895797.\n",
      "Cost after 71th iterations is: 20.917181661334762.\n",
      "Cost after 72th iterations is: 20.917183724509343.\n",
      "Cost after 73th iterations is: 20.917187597165125.\n",
      "Cost after 74th iterations is: 20.917192874561202.\n",
      "Cost after 75th iterations is: 20.917199219503196.\n"
     ]
    }
   ],
   "source": [
    "alg1= MyLinearRegression(learning_rate, num_iterations)\n",
    "alg1.fit(X_train, Y_train)"
   ]
  },
  {
   "cell_type": "code",
   "execution_count": 17,
   "metadata": {},
   "outputs": [
    {
     "data": {
      "text/plain": [
       "(array([-14.88529997,  -2.85780774,   0.36471945,  -2.3769365 ]),\n",
       " 454.4575423751061)"
      ]
     },
     "execution_count": 17,
     "metadata": {},
     "output_type": "execute_result"
    }
   ],
   "source": [
    "alg1.coef_, alg1.intercept_"
   ]
  },
  {
   "cell_type": "code",
   "execution_count": 18,
   "metadata": {},
   "outputs": [],
   "source": [
    "X_test= np.loadtxt(\"test_ccpp_x_test.csv\",delimiter=\",\")\n",
    "X_test= scaler.transform(X_test)"
   ]
  },
  {
   "cell_type": "code",
   "execution_count": 19,
   "metadata": {},
   "outputs": [
    {
     "name": "stdout",
     "output_type": "stream",
     "text": [
      "Train Score:  0.9287446335967005\n"
     ]
    }
   ],
   "source": [
    "# test data\n",
    "y_test_pred = alg1.predict(X_test)\n",
    "\n",
    "#train data\n",
    "y_train_pred = alg1.predict(X_train)\n",
    "print(\"Train Score: \", alg1.score(Y_train, y_train_pred))"
   ]
  },
  {
   "cell_type": "code",
   "execution_count": null,
   "metadata": {},
   "outputs": [],
   "source": [
    "#np.savetxt(\"predictions_ccpp.csv\",y_test_pred,delimiter=\",\",fmt=\"%.18f\")"
   ]
  },
  {
   "cell_type": "code",
   "execution_count": null,
   "metadata": {},
   "outputs": [],
   "source": []
  },
  {
   "cell_type": "markdown",
   "metadata": {},
   "source": [
    "# Sklearn Linear Regression"
   ]
  },
  {
   "cell_type": "code",
   "execution_count": 20,
   "metadata": {},
   "outputs": [
    {
     "data": {
      "text/plain": [
       "LinearRegression(copy_X=True, fit_intercept=True, n_jobs=1, normalize=False)"
      ]
     },
     "execution_count": 20,
     "metadata": {},
     "output_type": "execute_result"
    }
   ],
   "source": [
    "alg2=LinearRegression()\n",
    "alg2.fit(X_train, Y_train)"
   ]
  },
  {
   "cell_type": "code",
   "execution_count": 21,
   "metadata": {},
   "outputs": [
    {
     "data": {
      "text/plain": [
       "(array([-14.90272935,  -2.89427819,   0.34973996,  -2.34230172]),\n",
       " 454.4312931995541)"
      ]
     },
     "execution_count": 21,
     "metadata": {},
     "output_type": "execute_result"
    }
   ],
   "source": [
    "alg2.coef_, alg2.intercept_"
   ]
  },
  {
   "cell_type": "code",
   "execution_count": 24,
   "metadata": {},
   "outputs": [
    {
     "name": "stdout",
     "output_type": "stream",
     "text": [
      "Train Score:  0.9287632000440599\n"
     ]
    }
   ],
   "source": [
    "# test data\n",
    "y_test_pred_skl = alg2.predict(X_test)\n",
    "\n",
    "#train data\n",
    "y_train_pred_skl = alg2.predict(X_train)\n",
    "print(\"Train Score: \", alg2.score(X_train, Y_train))"
   ]
  },
  {
   "cell_type": "code",
   "execution_count": null,
   "metadata": {},
   "outputs": [],
   "source": []
  },
  {
   "cell_type": "markdown",
   "metadata": {},
   "source": [
    "# Plotting Graphs"
   ]
  },
  {
   "cell_type": "code",
   "execution_count": 25,
   "metadata": {},
   "outputs": [],
   "source": [
    "import matplotlib.pyplot as plt"
   ]
  },
  {
   "cell_type": "code",
   "execution_count": 27,
   "metadata": {
    "scrolled": true
   },
   "outputs": [
    {
     "data": {
      "image/png": "[encoded data removed]",
      "text/plain": [
       "<Figure size 432x288 with 1 Axes>"
      ]
     },
     "metadata": {},
     "output_type": "display_data"
    }
   ],
   "source": [
    "plt.scatter(y_test_pred, y_test_pred_skl)\n",
    "x= np.arange(400,500,0.1)\n",
    "plt.plot(x,x,color=\"r\")\n",
    "plt.show()"
   ]
  },
  {
   "cell_type": "code",
   "execution_count": null,
   "metadata": {},
   "outputs": [],
   "source": []
  }
 ],
 "metadata": {
  "kernelspec": {
   "display_name": "Python 3",
   "language": "python",
   "name": "python3"
  },
  "language_info": {
   "codemirror_mode": {
    "name": "ipython",
    "version": 3
   },
   "file_extension": ".py",
   "mimetype": "text/x-python",
   "name": "python",
   "nbconvert_exporter": "python",
   "pygments_lexer": "ipython3",
   "version": "3.6.3"
  }
 },
 "nbformat": 4,
 "nbformat_minor": 2
}
