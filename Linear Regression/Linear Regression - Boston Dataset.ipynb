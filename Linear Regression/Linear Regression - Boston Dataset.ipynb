{
 "cells": [
  {
   "cell_type": "code",
   "execution_count": null,
   "metadata": {},
   "outputs": [],
   "source": [
    "import numpy as np\n",
    "import pandas as pd\n",
    "from sklearn import model_selection\n",
    "from sklearn.linear_model import LinearRegression"
   ]
  },
  {
   "cell_type": "code",
   "execution_count": null,
   "metadata": {},
   "outputs": [],
   "source": [
    "class MyLinearRegression:\n",
    "    def __init__(self, learning_rate=0, num_of_iterations=0):\n",
    "        self.learning_rate = learning_rate\n",
    "        self.num_of_iterations = num_of_iterations\n",
    "        self.min_cost=0\n",
    "        self.M=0\n",
    "        self.n=0\n",
    "        self.coef_= np.zeros(self.n)\n",
    "        self.intercept_= 0\n",
    "\n",
    "    def __cost(self, X, Y, m):\n",
    "        total_cost=0  #Total cost\n",
    "        for i in range(self.M):\n",
    "            x=X[i,:]\n",
    "            y=Y[i]\n",
    "            total_cost+=(1/self.M)*((y-(m*x).sum())**2)   #Total Cost\n",
    "        return total_cost\n",
    "    \n",
    "    def __step_gradient(self, X, Y, m):\n",
    "        slope=np.zeros(X.shape[1])   #slope of tangent  \n",
    "        for i in range(self.M):\n",
    "            x=X[i,:]\n",
    "            y=Y[i]\n",
    "            '''mul=m*x\n",
    "            val=y\n",
    "            for j in range(n):\n",
    "                val-=mul[j]'''\n",
    "            slope+=(-2/self.M)*(y-(m*x).sum())*x   #slope of tangent\n",
    "        new_m=m-self.learning_rate*slope\n",
    "        return new_m\n",
    "    \n",
    "    def __gradient_descent(self, points):\n",
    "        try:\n",
    "            X=points[0]            #Input vector\n",
    "            self.M=X.shape[0]      #Total number of datapoints in X\n",
    "            self.n=X.shape[1]      #Total number of features in X\n",
    "            Y=points[1]       #Output\n",
    "            X_n=np.append(X,np.ones(self.M).reshape(-1,1),axis=1)     #n+1 column is 1\n",
    "            m=np.zeros(self.n+1)   #here m is slope of best fit line\n",
    "            for i in range(self.num_of_iterations):\n",
    "                m = self.__step_gradient(X_n, Y, m)\n",
    "                if i%100==0:\n",
    "                    print(f\"Cost after {i}th iterations is: {self.__cost(X_n, Y, m)}.\")\n",
    "            self.min_cost=self.__cost(X_n, Y, m)\n",
    "            return m[:-1], m[-1]\n",
    "        except Exception as e:\n",
    "            print(e)\n",
    "            return np.zeros(self.n),0\n",
    "    \n",
    "    def fit(self, X, Y):\n",
    "        self.coef_, self.intercept_ = self.__gradient_descent((X,Y))\n",
    "        \n",
    "    def predict(self, X_test):\n",
    "        val= np.zeros(X_test.shape[0])\n",
    "        add= X_test*self.coef_\n",
    "        for j in range(X_test.shape[0]):\n",
    "            for i in range(X_test.shape[1]):\n",
    "                val[j]+=add[j][i]\n",
    "        return val + self.intercept_\n",
    "    \n",
    "    def score(self, Y_truth, Y_pred):\n",
    "        u=np.sum((Y_truth-Y_pred)**2)\n",
    "        v=np.sum((Y_truth-Y_truth.mean())**2)\n",
    "        coeff=1-(u/v)\n",
    "        return coeff"
   ]
  },
  {
   "cell_type": "code",
   "execution_count": null,
   "metadata": {},
   "outputs": [],
   "source": [
    "boston_train= pd.read_csv(\"training_boston_x_y_train.csv\")\n",
    "boston_test= pd.read_csv(\"test_boston_x_test.csv\")"
   ]
  },
  {
   "cell_type": "code",
   "execution_count": null,
   "metadata": {
    "scrolled": true
   },
   "outputs": [],
   "source": [
    "boston_train.head()"
   ]
  },
  {
   "cell_type": "code",
   "execution_count": null,
   "metadata": {},
   "outputs": [],
   "source": [
    "Y_train= boston_train[\" Y\"]\n",
    "del boston_train[\" Y\"]"
   ]
  },
  {
   "cell_type": "code",
   "execution_count": null,
   "metadata": {},
   "outputs": [],
   "source": [
    "columns = boston_train.columns"
   ]
  },
  {
   "cell_type": "code",
   "execution_count": null,
   "metadata": {},
   "outputs": [],
   "source": [
    "for i in range(len(columns)):\n",
    "    boston_train[ str(columns[i])+ \"_\" + str(columns[i]) ] = boston_train[ columns[i] ]**2\n",
    "    boston_test[ str(columns[i])+ \"_\" + str(columns[i]) ] = boston_test[ columns[i] ]**2"
   ]
  },
  {
   "cell_type": "code",
   "execution_count": null,
   "metadata": {},
   "outputs": [],
   "source": [
    "boston_train.head()"
   ]
  },
  {
   "cell_type": "code",
   "execution_count": null,
   "metadata": {},
   "outputs": [],
   "source": [
    "X_train= boston_train.values\n",
    "X_test= boston_test.values\n",
    "X_train.shape, X_test.shape"
   ]
  },
  {
   "cell_type": "code",
   "execution_count": null,
   "metadata": {},
   "outputs": [],
   "source": [
    "alg1= MyLinearRegression(0.0002,6000)\n",
    "alg1.fit(X_train, Y_train)"
   ]
  },
  {
   "cell_type": "code",
   "execution_count": null,
   "metadata": {},
   "outputs": [],
   "source": [
    "alg1.coef_, alg1.intercept_"
   ]
  },
  {
   "cell_type": "code",
   "execution_count": null,
   "metadata": {},
   "outputs": [],
   "source": [
    "alg1.min_cost"
   ]
  },
  {
   "cell_type": "code",
   "execution_count": null,
   "metadata": {},
   "outputs": [],
   "source": [
    "# test data\n",
    "y_test_pred = alg1.predict(X_test)\n",
    "\n",
    "#train data\n",
    "y_train_pred = alg1.predict(X_train)\n",
    "print(\"Train Score: \", alg1.score(Y_train, y_train_pred))"
   ]
  },
  {
   "cell_type": "code",
   "execution_count": null,
   "metadata": {},
   "outputs": [],
   "source": [
    "np.savetxt(\"predictions_boston.csv\", y_test_pred, delimiter=\",\", fmt=\"%.18f\")"
   ]
  },
  {
   "cell_type": "code",
   "execution_count": null,
   "metadata": {},
   "outputs": [],
   "source": []
  },
  {
   "cell_type": "markdown",
   "metadata": {},
   "source": [
    "# Sklearn Linear Regression"
   ]
  },
  {
   "cell_type": "code",
   "execution_count": null,
   "metadata": {},
   "outputs": [],
   "source": [
    "alg2=LinearRegression()\n",
    "alg2.fit(X_train, Y_train)"
   ]
  },
  {
   "cell_type": "code",
   "execution_count": null,
   "metadata": {},
   "outputs": [],
   "source": [
    "alg2.coef_, alg2.intercept_"
   ]
  },
  {
   "cell_type": "code",
   "execution_count": null,
   "metadata": {},
   "outputs": [],
   "source": [
    "# test data\n",
    "y_test_pred_skl = alg2.predict(X_test)\n",
    "\n",
    "#train data\n",
    "y_train_pred = alg2.predict(X_train)\n",
    "print(\"Train Score: \", alg2.score(X_train, Y_train))"
   ]
  },
  {
   "cell_type": "code",
   "execution_count": null,
   "metadata": {},
   "outputs": [],
   "source": []
  },
  {
   "cell_type": "markdown",
   "metadata": {},
   "source": [
    "# Plotting Graph"
   ]
  },
  {
   "cell_type": "code",
   "execution_count": null,
   "metadata": {},
   "outputs": [],
   "source": [
    "import matplotlib.pyplot as plt"
   ]
  },
  {
   "cell_type": "code",
   "execution_count": null,
   "metadata": {},
   "outputs": [],
   "source": [
    "plt.scatter(y_test_pred, y_test_pred_skl)\n",
    "x= np.arange(0,50,0.1)\n",
    "plt.plot(x,x,color=\"r\")\n",
    "plt.show()"
   ]
  }
 ],
 "metadata": {
  "kernelspec": {
   "display_name": "Python 3",
   "language": "python",
   "name": "python3"
  },
  "language_info": {
   "codemirror_mode": {
    "name": "ipython",
    "version": 3
   },
   "file_extension": ".py",
   "mimetype": "text/x-python",
   "name": "python",
   "nbconvert_exporter": "python",
   "pygments_lexer": "ipython3",
   "version": "3.6.3"
  }
 },
 "nbformat": 4,
 "nbformat_minor": 2
}
