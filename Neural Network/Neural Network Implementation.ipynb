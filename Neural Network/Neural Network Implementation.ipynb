{
 "cells": [
  {
   "cell_type": "code",
   "execution_count": null,
   "metadata": {},
   "outputs": [],
   "source": [
    "import numpy as np"
   ]
  },
  {
   "cell_type": "code",
   "execution_count": null,
   "metadata": {},
   "outputs": [],
   "source": [
    "X= np.array([[0, 0, 0], [0, 0, 1], [0, 1, 0], [0, 1, 1], [1, 0, 0], [1, 0, 1], [1, 1, 0], [1, 1, 1]])\n",
    "Y= np.array([[0, 1, 1, 0, 1, 0, 0, 1]]).T"
   ]
  },
  {
   "cell_type": "code",
   "execution_count": null,
   "metadata": {},
   "outputs": [],
   "source": [
    "class NeuralNetwork:\n",
    "    #Neural Network with input layer of 3 units and 1 hidden layer of 2 units \n",
    "    def __init__(self, lr= 1, num_iterations= 1000):\n",
    "        self.lr= lr\n",
    "        self.num_iter= num_iterations\n",
    "        self.wh= 2* np.random.random((3, 2)) - 1\n",
    "        self.bh= 2* np.random.random((1, 2)) - 1\n",
    "        self.wo= 2* np.random.random((2, 1)) - 1\n",
    "        self.bo= 2* np.random.random((1, 1)) - 1\n",
    "        \n",
    "    def sig(self, x):\n",
    "        return 1/(1+ np.exp(-1*x))\n",
    "    \n",
    "    def predict(self, X):\n",
    "        output0= X \n",
    "        input_for_hidden_layer= np.dot(X, self.wh)+ self.bh \n",
    "        output_hidden= self.sig(input_for_hidden_layer) \n",
    "        input_for_output_layer= np.dot(output_hidden, self.wo)+ self.bo \n",
    "        output= self.sig(input_for_output_layer)\n",
    "        return output\n",
    "\n",
    "    def fit(self, X, Y):\n",
    "        for i in range(self.num_iter):\n",
    "            #forward propagation\n",
    "            output0= X #shape=4*2 \n",
    "            input_for_hidden_layer= np.dot(X, self.wh)+ self.bh #shape= 4*2\n",
    "            output_hidden= self.sig(input_for_hidden_layer) #shape= 4*2\n",
    "            input_for_output_layer= np.dot(output_hidden, self.wo)+ self.bo #shape= 4*1\n",
    "            output= self.sig(input_for_output_layer)#shape= 4*1\n",
    "            \n",
    "            #backward propagation\n",
    "            first_term_output_layer= output- Y #shape= 4*1\n",
    "            second_term_output_layer= self.sig(input_for_output_layer)* (1- self.sig(input_for_output_layer)) #shape= 4*1\n",
    "            third_term_output_layer= output_hidden.T #shape= 2*4\n",
    "            first_two_term= first_term_output_layer*second_term_output_layer\n",
    "            changes_output_layer= np.dot(third_term_output_layer, first_two_term)#shape= 2*1\n",
    "            changes_output_bias= np.sum(first_two_term, axis= 0, keepdims= True) #shape= 1*1\n",
    "            \n",
    "            first_term_hidden_layer= np.dot(first_two_term, self.wo.T)  #shape= 4*2\n",
    "            second_term_hidden_layer= self.sig(input_for_hidden_layer)* (1- self.sig(input_for_hidden_layer)) #shape= 4*2\n",
    "            third_term_hidden_layer= output0.T#shape= 2*4\n",
    "            first_two_term_hidden= first_term_hidden_layer* second_term_hidden_layer\n",
    "            changes_hidden_layer= np.dot(third_term_hidden_layer, first_two_term_hidden) #shape= 2*2\n",
    "            changes_hidden_bias= np.sum(first_two_term_hidden, axis= 0, keepdims= True) #shape= 1*2\n",
    "            \n",
    "            #Output layer weights updation\n",
    "            self.wo= self.wo- self.lr*changes_output_layer\n",
    "            self.bo= self.bo- self.lr*changes_output_bias\n",
    "            \n",
    "            #Hidden layer weights updation\n",
    "            self.wh= self.wh- self.lr*changes_hidden_layer\n",
    "            self.bh= self.bh- self.lr*changes_hidden_bias\n",
    "        \n",
    "        "
   ]
  },
  {
   "cell_type": "code",
   "execution_count": null,
   "metadata": {},
   "outputs": [],
   "source": [
    "NN= NeuralNetwork(lr= 1, num_iterations= 10000)\n",
    "NN.fit(X, Y)"
   ]
  },
  {
   "cell_type": "code",
   "execution_count": null,
   "metadata": {},
   "outputs": [],
   "source": [
    "NN.predict(X)"
   ]
  },
  {
   "cell_type": "code",
   "execution_count": null,
   "metadata": {},
   "outputs": [],
   "source": [
    "print(f\"Hidden Layer Weight: {NN.wh} and bias: {NN.bh}\")\n",
    "print(f\"Output Layer Weight: {NN.wo} and bias: {NN.bo}\")"
   ]
  },
  {
   "cell_type": "code",
   "execution_count": null,
   "metadata": {},
   "outputs": [],
   "source": []
  },
  {
   "cell_type": "code",
   "execution_count": null,
   "metadata": {},
   "outputs": [],
   "source": []
  }
 ],
 "metadata": {
  "kernelspec": {
   "display_name": "Python 3",
   "language": "python",
   "name": "python3"
  },
  "language_info": {
   "codemirror_mode": {
    "name": "ipython",
    "version": 3
   },
   "file_extension": ".py",
   "mimetype": "text/x-python",
   "name": "python",
   "nbconvert_exporter": "python",
   "pygments_lexer": "ipython3",
   "version": "3.6.6"
  }
 },
 "nbformat": 4,
 "nbformat_minor": 2
}
